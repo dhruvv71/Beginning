{
 "cells": [
  {
   "cell_type": "code",
   "execution_count": null,
   "id": "da8669ba",
   "metadata": {
    "vscode": {
     "languageId": "plaintext"
    }
   },
   "outputs": [],
   "source": [
    "a = int(1,2,3,4,5)\n",
    "print(a)"
   ]
  }
 ],
 "metadata": {
  "language_info": {
   "name": "python"
  }
 },
 "nbformat": 4,
 "nbformat_minor": 5
}
